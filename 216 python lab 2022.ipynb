{
 "cells": [
  {
   "cell_type": "code",
   "execution_count": null,
   "id": "f2bc2a3f",
   "metadata": {
    "scrolled": true
   },
   "outputs": [],
   "source": [
    "import numpy as np\n",
    "\n",
    "def rule1(c, dA):\n",
    "    dQ = (c)*dA\n",
    "    return dQ\n",
    "\n",
    "c = float(input())\n",
    "dA = float(input())\n",
    "\n",
    "print (rule1(c, dA))\n"
   ]
  },
  {
   "cell_type": "code",
   "execution_count": null,
   "id": "ec245d8b",
   "metadata": {},
   "outputs": [],
   "source": [
    "import numpy as np\n",
    "\n",
    "def rule2(c, m, A, dA):\n",
    "    deltaQ = np.abs((c*m*A)**(m-1))*dA\n",
    "    return dQ\n",
    "\n",
    "c = float(input())\n",
    "m = float(input())\n",
    "A = float(input())\n",
    "dA = float(input())\n",
    "\n",
    "print (rule2(c, m, A, dA))\n"
   ]
  },
  {
   "cell_type": "code",
   "execution_count": null,
   "id": "241a0db2",
   "metadata": {
    "scrolled": true
   },
   "outputs": [],
   "source": [
    "import numpy as np\n",
    "\n",
    "def rule3(dA, dB):\n",
    "    dQ = np.sqrt(dA**2+dB**2)\n",
    "    return dQ\n",
    "\n",
    "dA = float(input())\n",
    "dB = float(input())\n",
    "errd1 = float(input())\n",
    "errd2 = float(input())\n",
    "\n",
    "print (rule3(dA, dB))"
   ]
  },
  {
   "cell_type": "code",
   "execution_count": null,
   "id": "1f9e4c9b",
   "metadata": {},
   "outputs": [],
   "source": [
    "import numpy as np\n",
    "\n",
    "def rule4(m, dA, A, n, dB, B):\n",
    "    dQ = np.sqrt(m*dA/A)**2+(n*dB/B)**2+(o*dC/C)**2+(p*dD/D)**2\n",
    "    return dQ\n",
    "\n",
    "m = 0.2519\n",
    "dA = 0.0001\n",
    "A = 0.2519\n",
    "\n",
    "n = 0.0657\n",
    "dB = 0.0001\n",
    "B = 0.0657\n",
    "\n",
    "o = 0.263\n",
    "dC = 0.0005\n",
    "C = 0.263\n",
    "\n",
    "p = 0.171\n",
    "dD = 0.00866\n",
    "D = 0.171\n",
    "\n",
    "print(rule4(m, dA, A, n, dB, B, o, dC, C, p, dD, D))"
   ]
  },
  {
   "cell_type": "code",
   "execution_count": null,
   "id": "1d8755ad",
   "metadata": {},
   "outputs": [],
   "source": [
    "#mean and standard deviation\n",
    "import numpy as np\n",
    "\n",
    "std = np.std([1.1, 1.3, 1.4, 0.9, 0.95, 1.05])\n",
    "avg = np.average([1.1, 1.3, 1.4, 0.9, 0.95, 1.05])\n",
    "err_denom = np.sqrt(6)\n",
    "dQ = std/err_denom\n",
    "\n",
    "print(\"Average of the data is\", avg)\n",
    "print(\"Error in the average is\", dQ)"
   ]
  },
  {
   "cell_type": "code",
   "execution_count": null,
   "id": "7254e077",
   "metadata": {},
   "outputs": [],
   "source": [
    "import numpy as np\n",
    "err_x = np.std(x)/np.sqrt(X)\n",
    "avgx = np.average(x)\n",
    "x = input(\"\")\n",
    "print(avgx,err_x)"
   ]
  },
  {
   "cell_type": "markdown",
   "id": "19f146a9",
   "metadata": {},
   "source": [
    "$\\delta Q = \\sqrt{(\\delta A)^2 + (\\delta B)^2}$"
   ]
  },
  {
   "cell_type": "markdown",
   "id": "67f8bcea",
   "metadata": {},
   "source": [
    "$\\delta Q = \\sqrt{(\\frac{m \\delta A}{A})^2 + (\\frac{n \\delta B}{B})^2}$"
   ]
  },
  {
   "cell_type": "markdown",
   "id": "da836f00",
   "metadata": {},
   "source": [
    "$\\delta v_i = \\sqrt{(2 \\cdot g)} \\left( M + m \\right) m^{-1} R^\\frac{1}{2} \\left( \\bar{1-cos\\theta}\\right)^\\frac{1}{2}$"
   ]
  },
  {
   "cell_type": "code",
   "execution_count": null,
   "id": "2b4b5f02",
   "metadata": {},
   "outputs": [],
   "source": []
  }
 ],
 "metadata": {
  "kernelspec": {
   "display_name": "Python 3",
   "language": "python",
   "name": "python3"
  },
  "language_info": {
   "codemirror_mode": {
    "name": "ipython",
    "version": 3
   },
   "file_extension": ".py",
   "mimetype": "text/x-python",
   "name": "python",
   "nbconvert_exporter": "python",
   "pygments_lexer": "ipython3",
   "version": "3.8.8"
  }
 },
 "nbformat": 4,
 "nbformat_minor": 5
}
